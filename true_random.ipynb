{
 "cells": [
  {
   "cell_type": "markdown",
   "metadata": {},
   "source": [
    "# True Random Generator\n",
    "True random generator using [Random.org](https://www.random.org/) API."
   ]
  },
  {
   "cell_type": "markdown",
   "metadata": {},
   "source": [
    "## Documentation\n",
    "*Need to sign up to Random.org first*\n",
    "\n",
    "### Creating an API key\n",
    "https://api.random.org/dashboard\n",
    "\n",
    "### Usage & Documentations\n",
    "https://api.random.org/json-rpc/4/fundamentals<br/>\n",
    "https://api.random.org/json-rpc/4/basic"
   ]
  },
  {
   "cell_type": "code",
   "execution_count": null,
   "metadata": {},
   "outputs": [],
   "source": [
    "#!/usr/bin/python\n",
    "# -*- coding: utf-8 -*-\n",
    "\n",
    "__author__ = 'FL:A1-1'\n",
    "\n",
    "import json\n",
    "import requests\n",
    "\n",
    "USER_FILE = 'user.json'\n",
    "URL = 'https://api.random.org/json-rpc/4/invoke'\n",
    "\n",
    "\n",
    "# Loading the API Key from a JSON file\n",
    "# File must be structured like this:\n",
    "# {\n",
    "#     \"api_key\": \"XXXXXXXXXXXXXXXXXXXXXXXXXXXXXXXX\"\n",
    "# }\n",
    "def load_api_key(file: str) -> str:\n",
    "    try:\n",
    "        with open(file, 'r') as f:\n",
    "            return json.load(f)['api_key']\n",
    "    except IOError:\n",
    "        print('Error opening credential file')\n",
    "        raise\n",
    "\n",
    "\n",
    "# Main section of the program\n",
    "def main():\n",
    "    api_key = load_api_key(USER_FILE)\n",
    "\n",
    "    headers = {\n",
    "        'Content-Type': 'application/json'\n",
    "    }\n",
    "\n",
    "    payload = {\n",
    "        'jsonrpc': '2.0',\n",
    "        'method': 'generateIntegers',\n",
    "        'params': {\n",
    "            'apiKey': api_key,\n",
    "            'n': 1,\n",
    "            'min': 1,\n",
    "            'max': 31\n",
    "        },\n",
    "        'id': 42\n",
    "    }\n",
    "\n",
    "    r = requests.post(URL, json=payload, headers=headers)\n",
    "    \n",
    "    if r.status_code == 200:\n",
    "        print(r.json())\n",
    "    else:\n",
    "        print('Error: {}'.format(r.status_code))\n",
    "\n",
    "\n",
    "if __name__ == '__main__':\n",
    "    main()\n",
    "    "
   ]
  }
 ],
 "metadata": {
  "kernelspec": {
   "display_name": "Python 3.8.10 64-bit",
   "language": "python",
   "name": "python3"
  },
  "language_info": {
   "codemirror_mode": {
    "name": "ipython",
    "version": 3
   },
   "file_extension": ".py",
   "mimetype": "text/x-python",
   "name": "python",
   "nbconvert_exporter": "python",
   "pygments_lexer": "ipython3",
   "version": "3.8.10"
  },
  "orig_nbformat": 4,
  "vscode": {
   "interpreter": {
    "hash": "31f2aee4e71d21fbe5cf8b01ff0e069b9275f58929596ceb00d14d90e3e16cd6"
   }
  }
 },
 "nbformat": 4,
 "nbformat_minor": 2
}
